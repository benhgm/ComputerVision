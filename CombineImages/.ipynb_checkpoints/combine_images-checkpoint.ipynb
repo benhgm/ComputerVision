{
 "cells": [
  {
   "cell_type": "code",
   "execution_count": 19,
   "id": "a8d7cd90",
   "metadata": {},
   "outputs": [],
   "source": [
    "import os\n",
    "import cv2\n",
    "import glob\n",
    "import numpy as np"
   ]
  },
  {
   "cell_type": "code",
   "execution_count": 20,
   "id": "1cb84193",
   "metadata": {},
   "outputs": [
    {
     "data": {
      "text/plain": [
       "'/Users/benho/Documents/ComputerVision/CombineImages'"
      ]
     },
     "execution_count": 20,
     "metadata": {},
     "output_type": "execute_result"
    }
   ],
   "source": [
    "current_dir = os.getcwd()\n",
    "current_dir"
   ]
  },
  {
   "cell_type": "code",
   "execution_count": 26,
   "id": "b864d9a1",
   "metadata": {},
   "outputs": [
    {
     "name": "stdout",
     "output_type": "stream",
     "text": [
      "/Users/benho/Documents/ComputerVision/CombineImages/images/4.png\n",
      "(2024, 3431, 3)\n",
      "/Users/benho/Documents/ComputerVision/CombineImages/images/2.png\n",
      "(2025, 3431, 3)\n",
      "/Users/benho/Documents/ComputerVision/CombineImages/images/3.png\n",
      "(2023, 3431, 3)\n",
      "/Users/benho/Documents/ComputerVision/CombineImages/images/1.png\n",
      "(2026, 3430, 3)\n"
     ]
    }
   ],
   "source": [
    "images = []\n",
    "for file in glob.glob(current_dir + \"/images/*\"):\n",
    "    print(file)\n",
    "    img = cv2.imread(file)\n",
    "    print(img.shape)\n",
    "    images.append(img)"
   ]
  },
  {
   "cell_type": "code",
   "execution_count": 28,
   "id": "0b6d35a6",
   "metadata": {},
   "outputs": [],
   "source": [
    "def alignImages(im1, im2):\n",
    "    # Convert images to grayscale\n",
    "    im1Gray = cv2.cvtColor(im1, cv2.COLOR_BGR2GRAY)\n",
    "    im2Gray = cv2.cvtColor(im2, cv2.COLOR_BGR2GRAY)\n",
    "    \n",
    "    # Detect ORB features and compute descriptors\n",
    "    orb = cv2.ORB_create(500)\n",
    "    keypoints1, descriptors1 = orb.detectAndCompute(im1Gray, None)\n",
    "    keypoints2, descriptors2 = orb.detectAndCompute(im2Gray, None)\n",
    "    \n",
    "    # Match features\n",
    "    matcher = cv2.DescriptorMatcher_create(cv2.DESCRIPTOR_MATCHER_BRUTEFORCE_HAMMING)\n",
    "    matches = matcher.match(descriptors1, descriptors2, None)\n",
    "    \n",
    "    # Sort matches by score\n",
    "    matches.sort(key=lambda x: x.distance, reverse=False)\n",
    "    \n",
    "    # Remove poor matches\n",
    "    numGoodMatches = int(len(matches) * 0.15)\n",
    "    matches = matches[:numGoodMatches]\n",
    "    \n",
    "    # Draw matches\n",
    "    imMatches = cv2.drawMatches(im1, keypoints1, im2, keypoints2, matches, None)\n",
    "    \n",
    "    "
   ]
  },
  {
   "cell_type": "code",
   "execution_count": 29,
   "id": "e8577e89",
   "metadata": {},
   "outputs": [],
   "source": [
    "alignImages(images[0], images[1])"
   ]
  },
  {
   "cell_type": "code",
   "execution_count": null,
   "id": "c051f93c",
   "metadata": {},
   "outputs": [],
   "source": []
  }
 ],
 "metadata": {
  "kernelspec": {
   "display_name": "Python 3 (ipykernel)",
   "language": "python",
   "name": "python3"
  },
  "language_info": {
   "codemirror_mode": {
    "name": "ipython",
    "version": 3
   },
   "file_extension": ".py",
   "mimetype": "text/x-python",
   "name": "python",
   "nbconvert_exporter": "python",
   "pygments_lexer": "ipython3",
   "version": "3.8.13"
  }
 },
 "nbformat": 4,
 "nbformat_minor": 5
}
